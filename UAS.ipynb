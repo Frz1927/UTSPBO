{
  "nbformat": 4,
  "nbformat_minor": 0,
  "metadata": {
    "colab": {
      "provenance": [],
      "authorship_tag": "ABX9TyP5d4q7C7MqtB+pW5+x1R++",
      "include_colab_link": true
    },
    "kernelspec": {
      "name": "python3",
      "display_name": "Python 3"
    },
    "language_info": {
      "name": "python"
    }
  },
  "cells": [
    {
      "cell_type": "markdown",
      "metadata": {
        "id": "view-in-github",
        "colab_type": "text"
      },
      "source": [
        "<a href=\"https://colab.research.google.com/github/Frz1927/UTSPBO/blob/main/UAS.ipynb\" target=\"_parent\"><img src=\"https://colab.research.google.com/assets/colab-badge.svg\" alt=\"Open In Colab\"/></a>"
      ]
    },
    {
      "cell_type": "markdown",
      "source": [
        "# LIBRARY"
      ],
      "metadata": {
        "id": "374-zISi7p4v"
      }
    },
    {
      "cell_type": "code",
      "source": [
        "import pandas as pd\n",
        "import numpy as np\n",
        "from sklearn.preprocessing import StandardScaler, MinMaxScaler, LabelEncoder, OneHotEncoder\n",
        "from sklearn.feature_selection import SelectKBest, chi2\n",
        "import seaborn as sns\n",
        "import matplotlib.pyplot as plt\n",
        "from scipy.stats import zscore"
      ],
      "metadata": {
        "id": "9jdwoeHJ7zpu"
      },
      "execution_count": 42,
      "outputs": []
    },
    {
      "cell_type": "markdown",
      "source": [
        "# TUGAS 4 MENCARI DATASET"
      ],
      "metadata": {
        "id": "fVdPODVhz9yP"
      }
    },
    {
      "cell_type": "code",
      "execution_count": null,
      "metadata": {
        "collapsed": true,
        "id": "xwOdEyqjzPTj",
        "colab": {
          "base_uri": "https://localhost:8080/",
          "height": 56
        },
        "outputId": "bff16ae2-acb4-4c69-f9cd-c3eb726f27f2"
      },
      "outputs": [
        {
          "output_type": "display_data",
          "data": {
            "text/plain": [
              "<IPython.core.display.HTML object>"
            ],
            "text/html": [
              "\n",
              "     <input type=\"file\" id=\"files-8e23d81c-c69b-4286-8f6c-135308474d9e\" name=\"files[]\" multiple disabled\n",
              "        style=\"border:none\" />\n",
              "     <output id=\"result-8e23d81c-c69b-4286-8f6c-135308474d9e\">\n",
              "      Upload widget is only available when the cell has been executed in the\n",
              "      current browser session. Please rerun this cell to enable.\n",
              "      </output>\n",
              "      <script>// Copyright 2017 Google LLC\n",
              "//\n",
              "// Licensed under the Apache License, Version 2.0 (the \"License\");\n",
              "// you may not use this file except in compliance with the License.\n",
              "// You may obtain a copy of the License at\n",
              "//\n",
              "//      http://www.apache.org/licenses/LICENSE-2.0\n",
              "//\n",
              "// Unless required by applicable law or agreed to in writing, software\n",
              "// distributed under the License is distributed on an \"AS IS\" BASIS,\n",
              "// WITHOUT WARRANTIES OR CONDITIONS OF ANY KIND, either express or implied.\n",
              "// See the License for the specific language governing permissions and\n",
              "// limitations under the License.\n",
              "\n",
              "/**\n",
              " * @fileoverview Helpers for google.colab Python module.\n",
              " */\n",
              "(function(scope) {\n",
              "function span(text, styleAttributes = {}) {\n",
              "  const element = document.createElement('span');\n",
              "  element.textContent = text;\n",
              "  for (const key of Object.keys(styleAttributes)) {\n",
              "    element.style[key] = styleAttributes[key];\n",
              "  }\n",
              "  return element;\n",
              "}\n",
              "\n",
              "// Max number of bytes which will be uploaded at a time.\n",
              "const MAX_PAYLOAD_SIZE = 100 * 1024;\n",
              "\n",
              "function _uploadFiles(inputId, outputId) {\n",
              "  const steps = uploadFilesStep(inputId, outputId);\n",
              "  const outputElement = document.getElementById(outputId);\n",
              "  // Cache steps on the outputElement to make it available for the next call\n",
              "  // to uploadFilesContinue from Python.\n",
              "  outputElement.steps = steps;\n",
              "\n",
              "  return _uploadFilesContinue(outputId);\n",
              "}\n",
              "\n",
              "// This is roughly an async generator (not supported in the browser yet),\n",
              "// where there are multiple asynchronous steps and the Python side is going\n",
              "// to poll for completion of each step.\n",
              "// This uses a Promise to block the python side on completion of each step,\n",
              "// then passes the result of the previous step as the input to the next step.\n",
              "function _uploadFilesContinue(outputId) {\n",
              "  const outputElement = document.getElementById(outputId);\n",
              "  const steps = outputElement.steps;\n",
              "\n",
              "  const next = steps.next(outputElement.lastPromiseValue);\n",
              "  return Promise.resolve(next.value.promise).then((value) => {\n",
              "    // Cache the last promise value to make it available to the next\n",
              "    // step of the generator.\n",
              "    outputElement.lastPromiseValue = value;\n",
              "    return next.value.response;\n",
              "  });\n",
              "}\n",
              "\n",
              "/**\n",
              " * Generator function which is called between each async step of the upload\n",
              " * process.\n",
              " * @param {string} inputId Element ID of the input file picker element.\n",
              " * @param {string} outputId Element ID of the output display.\n",
              " * @return {!Iterable<!Object>} Iterable of next steps.\n",
              " */\n",
              "function* uploadFilesStep(inputId, outputId) {\n",
              "  const inputElement = document.getElementById(inputId);\n",
              "  inputElement.disabled = false;\n",
              "\n",
              "  const outputElement = document.getElementById(outputId);\n",
              "  outputElement.innerHTML = '';\n",
              "\n",
              "  const pickedPromise = new Promise((resolve) => {\n",
              "    inputElement.addEventListener('change', (e) => {\n",
              "      resolve(e.target.files);\n",
              "    });\n",
              "  });\n",
              "\n",
              "  const cancel = document.createElement('button');\n",
              "  inputElement.parentElement.appendChild(cancel);\n",
              "  cancel.textContent = 'Cancel upload';\n",
              "  const cancelPromise = new Promise((resolve) => {\n",
              "    cancel.onclick = () => {\n",
              "      resolve(null);\n",
              "    };\n",
              "  });\n",
              "\n",
              "  // Wait for the user to pick the files.\n",
              "  const files = yield {\n",
              "    promise: Promise.race([pickedPromise, cancelPromise]),\n",
              "    response: {\n",
              "      action: 'starting',\n",
              "    }\n",
              "  };\n",
              "\n",
              "  cancel.remove();\n",
              "\n",
              "  // Disable the input element since further picks are not allowed.\n",
              "  inputElement.disabled = true;\n",
              "\n",
              "  if (!files) {\n",
              "    return {\n",
              "      response: {\n",
              "        action: 'complete',\n",
              "      }\n",
              "    };\n",
              "  }\n",
              "\n",
              "  for (const file of files) {\n",
              "    const li = document.createElement('li');\n",
              "    li.append(span(file.name, {fontWeight: 'bold'}));\n",
              "    li.append(span(\n",
              "        `(${file.type || 'n/a'}) - ${file.size} bytes, ` +\n",
              "        `last modified: ${\n",
              "            file.lastModifiedDate ? file.lastModifiedDate.toLocaleDateString() :\n",
              "                                    'n/a'} - `));\n",
              "    const percent = span('0% done');\n",
              "    li.appendChild(percent);\n",
              "\n",
              "    outputElement.appendChild(li);\n",
              "\n",
              "    const fileDataPromise = new Promise((resolve) => {\n",
              "      const reader = new FileReader();\n",
              "      reader.onload = (e) => {\n",
              "        resolve(e.target.result);\n",
              "      };\n",
              "      reader.readAsArrayBuffer(file);\n",
              "    });\n",
              "    // Wait for the data to be ready.\n",
              "    let fileData = yield {\n",
              "      promise: fileDataPromise,\n",
              "      response: {\n",
              "        action: 'continue',\n",
              "      }\n",
              "    };\n",
              "\n",
              "    // Use a chunked sending to avoid message size limits. See b/62115660.\n",
              "    let position = 0;\n",
              "    do {\n",
              "      const length = Math.min(fileData.byteLength - position, MAX_PAYLOAD_SIZE);\n",
              "      const chunk = new Uint8Array(fileData, position, length);\n",
              "      position += length;\n",
              "\n",
              "      const base64 = btoa(String.fromCharCode.apply(null, chunk));\n",
              "      yield {\n",
              "        response: {\n",
              "          action: 'append',\n",
              "          file: file.name,\n",
              "          data: base64,\n",
              "        },\n",
              "      };\n",
              "\n",
              "      let percentDone = fileData.byteLength === 0 ?\n",
              "          100 :\n",
              "          Math.round((position / fileData.byteLength) * 100);\n",
              "      percent.textContent = `${percentDone}% done`;\n",
              "\n",
              "    } while (position < fileData.byteLength);\n",
              "  }\n",
              "\n",
              "  // All done.\n",
              "  yield {\n",
              "    response: {\n",
              "      action: 'complete',\n",
              "    }\n",
              "  };\n",
              "}\n",
              "\n",
              "scope.google = scope.google || {};\n",
              "scope.google.colab = scope.google.colab || {};\n",
              "scope.google.colab._files = {\n",
              "  _uploadFiles,\n",
              "  _uploadFilesContinue,\n",
              "};\n",
              "})(self);\n",
              "</script> "
            ]
          },
          "metadata": {}
        }
      ],
      "source": [
        "from google.colab import files\n",
        "uploaded = files.upload()\n"
      ]
    },
    {
      "cell_type": "markdown",
      "source": [
        "# TUGAS 5 DATA *UNDERSTANDING*"
      ],
      "metadata": {
        "id": "6IUknQ3A0EeB"
      }
    },
    {
      "cell_type": "markdown",
      "source": [
        "1. Memahami Struktur Data\n"
      ],
      "metadata": {
        "id": "h5WctAqC2V2d"
      }
    },
    {
      "cell_type": "code",
      "source": [
        "import pandas as pd\n",
        "\n",
        "df = pd.read_csv('cybersecurity_attacks.csv')\n",
        "df.head()\n",
        "df.info()\n",
        "df.dtypes"
      ],
      "metadata": {
        "collapsed": true,
        "id": "pF_7xm_Y0Jrr"
      },
      "execution_count": null,
      "outputs": []
    },
    {
      "cell_type": "markdown",
      "source": [
        "2. Statistik Deskriptif"
      ],
      "metadata": {
        "id": "RroHqh3R1dE1"
      }
    },
    {
      "cell_type": "code",
      "source": [
        "df.describe()"
      ],
      "metadata": {
        "id": "FDxaQt-f2r7v"
      },
      "execution_count": null,
      "outputs": []
    },
    {
      "cell_type": "code",
      "source": [
        "df.describe(include='object')"
      ],
      "metadata": {
        "id": "u-zEUiBL3i4r"
      },
      "execution_count": null,
      "outputs": []
    },
    {
      "cell_type": "markdown",
      "source": [
        "3. Memeriksa Missing Value"
      ],
      "metadata": {
        "id": "VHdADwHh22n1"
      }
    },
    {
      "cell_type": "code",
      "source": [
        "df.isnull().sum()"
      ],
      "metadata": {
        "id": "Y7GyrUM528sG"
      },
      "execution_count": null,
      "outputs": []
    },
    {
      "cell_type": "code",
      "source": [
        "df.isnull().mean() * 100 # Dalam Bentuk Persentase"
      ],
      "metadata": {
        "id": "jJ1DY7Kx3SWW"
      },
      "execution_count": null,
      "outputs": []
    },
    {
      "cell_type": "markdown",
      "source": [
        "4. Distribusi Dan Data Unik"
      ],
      "metadata": {
        "id": "5E3J-xRa3p3n"
      }
    },
    {
      "cell_type": "code",
      "source": [
        "for col in df.columns:\n",
        "    print(f\"{col}: {df[col].nunique()} nilai unik\") #Nilai unik setiap kolom (bisa untuk deteksi kategorikal)"
      ],
      "metadata": {
        "id": "jKXCvFIW31vR"
      },
      "execution_count": null,
      "outputs": []
    },
    {
      "cell_type": "code",
      "source": [
        "df['Severity Level'].value_counts() #menampilkan nilai terbanyak (sebagai contoh \"Severity Level\")\n"
      ],
      "metadata": {
        "id": "CttAVj9Q3462"
      },
      "execution_count": null,
      "outputs": []
    },
    {
      "cell_type": "markdown",
      "source": [
        "5. Visualisasi"
      ],
      "metadata": {
        "id": "ViVYFCSH3--a"
      }
    },
    {
      "cell_type": "code",
      "source": [
        "import matplotlib.pyplot as plt\n",
        "import seaborn as sns\n",
        "\n",
        "# Histogram kolom numerik\n",
        "df.hist(bins=20, figsize=(12, 10))\n",
        "plt.show()\n",
        "\n",
        "# Korelasi antar fitur numerik\n",
        "sns.heatmap(df.corr(numeric_only=True), annot=True, cmap='coolwarm')\n",
        "plt.show()\n"
      ],
      "metadata": {
        "id": "hECuif9r4C4q"
      },
      "execution_count": null,
      "outputs": []
    },
    {
      "cell_type": "markdown",
      "source": [
        "6. Cek Outlier Sederhana"
      ],
      "metadata": {
        "id": "PKMO6cU64Z9n"
      }
    },
    {
      "cell_type": "code",
      "source": [
        "sns.boxplot(x=df['Packet Length']) #kolom numerik\n"
      ],
      "metadata": {
        "id": "2eutmg5n4cr_"
      },
      "execution_count": null,
      "outputs": []
    },
    {
      "cell_type": "markdown",
      "source": [
        "# TUGAS 6 DATA PREPROCESSING HINGGA PERMODELAN"
      ],
      "metadata": {
        "id": "fv-0S2_i4rUi"
      }
    },
    {
      "cell_type": "markdown",
      "source": [
        "1. Pembersihan data"
      ],
      "metadata": {
        "id": "1b_P8q3f5061"
      }
    },
    {
      "cell_type": "code",
      "source": [
        " # mengisi missing value\n",
        "df['Alerts/Warnings'].fillna(\"Tidak Ada Peringatan\", inplace=True)\n",
        "df['IDS/IPS Alerts'].fillna(\"Tidak Ada Serangan\", inplace=True)\n",
        "df['Malware Indicators'].fillna(\"Tidak Terdeteksi\", inplace=True)\n",
        "df['Firewall Logs'].fillna(\"Log Tidak Tersedia\", inplace=True)\n",
        "df['Proxy Information'].fillna(\"Data Proxy Hilang\", inplace=True)\n",
        "\n",
        "# cek duplikasi\n",
        "df.drop_duplicates(inplace=True)\n",
        "\n",
        "# penanganan outlier\n",
        "\n",
        "numeric_cols = df.select_dtypes(include=np.number).columns.tolist()\n",
        "\n",
        "for col in numeric_cols:\n",
        "    Q1 = df[col].quantile(0.25)\n",
        "    Q3 = df[col].quantile(0.75)\n",
        "    IQR = Q3 - Q1\n",
        "    batas_bawah = Q1 - 1.5 * IQR\n",
        "    batas_atas = Q3 + 1.5 * IQR\n",
        "\n",
        "    outlier_count = df[(df[col] < batas_bawah) | (df[col] > batas_atas)].shape[0]\n",
        "\n",
        "    print(f\"Kolom: {col}\")\n",
        "    print(f\"Jumlah outlier: {outlier_count}\")\n",
        "\n",
        "    # Visualisasi\n",
        "    sns.boxplot(data=df, x=col)\n",
        "    plt.title(f'boxplot {col}')\n",
        "    plt.show()"
      ],
      "metadata": {
        "id": "jXn_CLCQ57YX"
      },
      "execution_count": null,
      "outputs": []
    },
    {
      "cell_type": "markdown",
      "source": [
        "2. Transformasi Data"
      ],
      "metadata": {
        "id": "YhyNeOG16bdd"
      }
    },
    {
      "cell_type": "code",
      "source": [
        "# Encoding Data Kategorikal (Categorical Encoding)\n",
        "data = pd.DataFrame({\n",
        "    'Protocol': ['TCP', 'UDP', 'ICMP']\n",
        "})\n",
        "\n",
        "encoder = OneHotEncoder(sparse_output=False)\n",
        "encoded = encoder.fit_transform(data)\n",
        "\n",
        "encoded_df = pd.DataFrame(encoded, columns=encoder.get_feature_names_out(['Protocol']))\n",
        "\n",
        "print(encoded_df)"
      ],
      "metadata": {
        "id": "hIhZTgtr6eqs"
      },
      "execution_count": null,
      "outputs": []
    },
    {
      "cell_type": "code",
      "source": [
        "# Normalisasi/Standarisasi Data Numerik (Numerical Data Normalization/Standardization)\n",
        "numerical_cols = ['Source Port', 'Destination Port', 'Packet Length', 'Anomaly Scores']\n",
        "\n",
        "df_normalized = df.copy()\n",
        "\n",
        "scaler = MinMaxScaler()\n",
        "df_normalized[numerical_cols] = scaler.fit_transform(df_normalized[numerical_cols])\n",
        "\n",
        "print(df_normalized[numerical_cols].head())"
      ],
      "metadata": {
        "id": "v1KvMWPi8Imo"
      },
      "execution_count": null,
      "outputs": []
    },
    {
      "cell_type": "markdown",
      "source": [
        "3. Rekayasa Fitur (Feature Engineering) & Pemilihan Fitur (Feature Selection)"
      ],
      "metadata": {
        "id": "ArexUIRx77cK"
      }
    },
    {
      "cell_type": "code",
      "source": [
        "# Rekayasa Fitur (Feature Engineering)\n",
        "\n",
        "# Hitung jumlah kasus untuk setiap kombinasi Traffic Type dan Severity Level\n",
        "traffic_severity_combination = df.groupby(['Traffic Type', 'Severity Level']).size().reset_index(name='Count')\n",
        "\n",
        "print(traffic_severity_combination)"
      ],
      "metadata": {
        "id": "4c9fBL0z83-D"
      },
      "execution_count": null,
      "outputs": []
    },
    {
      "cell_type": "code",
      "source": [
        "from sklearn.preprocessing import LabelEncoder\n",
        "\n",
        "le = LabelEncoder()\n",
        "df['Attack Type'] = le.fit_transform(df['Attack Type'])\n",
        "\n",
        "categorical_cols = df.select_dtypes(include=['object', 'bool']).columns\n",
        "\n",
        "for col in categorical_cols:\n",
        "    df[col] = le.fit_transform(df[col].astype(str))\n",
        "\n",
        "X = df[categorical_cols]\n",
        "y = df['Attack Type']\n",
        "\n",
        "selector = SelectKBest(score_func=chi2, k='all')\n",
        "selector.fit(X, y)\n",
        "\n",
        "\n",
        "scores = pd.DataFrame({'Feature': X.columns, 'Chi2 Score': selector.scores_})\n",
        "scores = scores.sort_values(by='Chi2 Score', ascending=False)\n",
        "print(scores)"
      ],
      "metadata": {
        "id": "_BhrVzDa9aU2"
      },
      "execution_count": null,
      "outputs": []
    },
    {
      "cell_type": "code",
      "source": [
        "# Pemilihan Algoritma/Model\n",
        "from sklearn.ensemble import RandomForestClassifier\n",
        "from sklearn.model_selection import train_test_split\n",
        "from sklearn.metrics import classification_report\n",
        "\n",
        "# Kolom target = 'Attack Type'\n",
        "X = df.drop(columns='Attack Type')\n",
        "y = df['Attack Type']\n",
        "\n",
        "# Bagi data\n",
        "X_train, X_test, y_train, y_test = train_test_split(X, y, test_size=0.3, random_state=42)\n",
        "\n",
        "# Model\n",
        "model = RandomForestClassifier()\n",
        "model.fit(X_train, y_train)\n",
        "\n",
        "# Prediksi dan evaluasi\n",
        "y_pred = model.predict(X_test)\n",
        "print(classification_report(y_test, y_pred))\n"
      ],
      "metadata": {
        "id": "CV7NdCojsQCT"
      },
      "execution_count": null,
      "outputs": []
    }
  ]
}
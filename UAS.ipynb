{
  "nbformat": 4,
  "nbformat_minor": 0,
  "metadata": {
    "colab": {
      "provenance": [],
      "authorship_tag": "ABX9TyMo4bs1W3Xt94Ps99ZwgMRF",
      "include_colab_link": true
    },
    "kernelspec": {
      "name": "python3",
      "display_name": "Python 3"
    },
    "language_info": {
      "name": "python"
    }
  },
  "cells": [
    {
      "cell_type": "markdown",
      "metadata": {
        "id": "view-in-github",
        "colab_type": "text"
      },
      "source": [
        "<a href=\"https://colab.research.google.com/github/Frz1927/UTSPBO/blob/main/UAS.ipynb\" target=\"_parent\"><img src=\"https://colab.research.google.com/assets/colab-badge.svg\" alt=\"Open In Colab\"/></a>"
      ]
    },
    {
      "cell_type": "markdown",
      "source": [
        "# LIBRARY"
      ],
      "metadata": {
        "id": "374-zISi7p4v"
      }
    },
    {
      "cell_type": "code",
      "source": [
        "import pandas as pd\n",
        "import numpy as np\n",
        "from sklearn.preprocessing import StandardScaler, MinMaxScaler, LabelEncoder, OneHotEncoder\n",
        "from sklearn.feature_selection import SelectKBest, chi2\n",
        "import seaborn as sns\n",
        "import matplotlib.pyplot as plt\n",
        "from scipy.stats import zscore"
      ],
      "metadata": {
        "id": "9jdwoeHJ7zpu"
      },
      "execution_count": null,
      "outputs": []
    },
    {
      "cell_type": "markdown",
      "source": [
        "# TUGAS 4 MENCARI DATASET"
      ],
      "metadata": {
        "id": "fVdPODVhz9yP"
      }
    },
    {
      "cell_type": "code",
      "execution_count": null,
      "metadata": {
        "collapsed": true,
        "id": "xwOdEyqjzPTj"
      },
      "outputs": [],
      "source": [
        "from google.colab import files\n",
        "uploaded = files.upload()\n"
      ]
    },
    {
      "cell_type": "markdown",
      "source": [
        "# TUGAS 5 DATA *UNDERSTANDING*"
      ],
      "metadata": {
        "id": "6IUknQ3A0EeB"
      }
    },
    {
      "cell_type": "markdown",
      "source": [
        "1. Memahami Struktur Data\n"
      ],
      "metadata": {
        "id": "h5WctAqC2V2d"
      }
    },
    {
      "cell_type": "code",
      "source": [
        "import pandas as pd\n",
        "\n",
        "df = pd.read_csv('cybersecurity_attacks.csv')\n",
        "df.head()\n",
        "df.info()\n",
        "df.dtypes"
      ],
      "metadata": {
        "collapsed": true,
        "id": "pF_7xm_Y0Jrr"
      },
      "execution_count": null,
      "outputs": []
    },
    {
      "cell_type": "markdown",
      "source": [
        "2. Statistik Deskriptif"
      ],
      "metadata": {
        "id": "RroHqh3R1dE1"
      }
    },
    {
      "cell_type": "code",
      "source": [
        "df.describe()"
      ],
      "metadata": {
        "id": "FDxaQt-f2r7v"
      },
      "execution_count": null,
      "outputs": []
    },
    {
      "cell_type": "code",
      "source": [
        "df.describe(include='object')"
      ],
      "metadata": {
        "id": "u-zEUiBL3i4r"
      },
      "execution_count": null,
      "outputs": []
    },
    {
      "cell_type": "markdown",
      "source": [
        "3. Memeriksa Missing Value"
      ],
      "metadata": {
        "id": "VHdADwHh22n1"
      }
    },
    {
      "cell_type": "code",
      "source": [
        "df.isnull().sum()"
      ],
      "metadata": {
        "id": "Y7GyrUM528sG"
      },
      "execution_count": null,
      "outputs": []
    },
    {
      "cell_type": "code",
      "source": [
        "df.isnull().mean() * 100 # Dalam Bentuk Persentase"
      ],
      "metadata": {
        "id": "jJ1DY7Kx3SWW"
      },
      "execution_count": null,
      "outputs": []
    },
    {
      "cell_type": "markdown",
      "source": [
        "4. Distribusi Dan Data Unik"
      ],
      "metadata": {
        "id": "5E3J-xRa3p3n"
      }
    },
    {
      "cell_type": "code",
      "source": [
        "for col in df.columns:\n",
        "    print(f\"{col}: {df[col].nunique()} nilai unik\") #Nilai unik setiap kolom (bisa untuk deteksi kategorikal)"
      ],
      "metadata": {
        "id": "jKXCvFIW31vR"
      },
      "execution_count": null,
      "outputs": []
    },
    {
      "cell_type": "code",
      "source": [
        "df['Severity Level'].value_counts() #menampilkan nilai terbanyak (sebagai contoh \"Severity Level\")\n"
      ],
      "metadata": {
        "id": "CttAVj9Q3462"
      },
      "execution_count": null,
      "outputs": []
    },
    {
      "cell_type": "markdown",
      "source": [
        "5. Visualisasi"
      ],
      "metadata": {
        "id": "ViVYFCSH3--a"
      }
    },
    {
      "cell_type": "code",
      "source": [
        "import matplotlib.pyplot as plt\n",
        "import seaborn as sns\n",
        "\n",
        "# Histogram kolom numerik\n",
        "df.hist(bins=20, figsize=(12, 10))\n",
        "plt.show()\n",
        "\n",
        "# Korelasi antar fitur numerik\n",
        "sns.heatmap(df.corr(numeric_only=True), annot=True, cmap='coolwarm')\n",
        "plt.show()\n"
      ],
      "metadata": {
        "id": "hECuif9r4C4q"
      },
      "execution_count": null,
      "outputs": []
    },
    {
      "cell_type": "markdown",
      "source": [
        "6. Cek Outlier Sederhana"
      ],
      "metadata": {
        "id": "PKMO6cU64Z9n"
      }
    },
    {
      "cell_type": "code",
      "source": [
        "sns.boxplot(x=df['Packet Length']) #kolom numerik\n"
      ],
      "metadata": {
        "id": "2eutmg5n4cr_"
      },
      "execution_count": null,
      "outputs": []
    },
    {
      "cell_type": "markdown",
      "source": [
        "# TUGAS 6 DATA PREPROCESSING HINGGA PERMODELAN"
      ],
      "metadata": {
        "id": "fv-0S2_i4rUi"
      }
    },
    {
      "cell_type": "markdown",
      "source": [
        "1. Pembersihan data"
      ],
      "metadata": {
        "id": "1b_P8q3f5061"
      }
    },
    {
      "cell_type": "code",
      "source": [
        "# Penanganan Nilai Hilang (missing Value)\n",
        "df['Alerts/Warnings'].fillna(\"Tidak Ada Peringatan\", inplace=True)\n",
        "df['IDS/IPS Alerts'].fillna(\"Tidak Ada Serangan\", inplace=True)\n",
        "df['Malware Indicators'].fillna(\"Tidak Terdeteksi\", inplace=True)\n",
        "df['Firewall Logs'].fillna(\"Log Tidak Tersedia\", inplace=True)\n",
        "df['Proxy Information'].fillna(\"Data Proxy Hilang\", inplace=True)\n",
        "\n",
        "# Penanganan Data Duplikat\n",
        "df.drop_duplicates(inplace=True)\n",
        "\n",
        "# Penanganan Outlier\n",
        "\n",
        "numeric_cols = df.select_dtypes(include=np.number).columns.tolist()\n",
        "\n",
        "for col in numeric_cols:\n",
        "    Q1 = df[col].quantile(0.25)\n",
        "    Q3 = df[col].quantile(0.75)\n",
        "    IQR = Q3 - Q1\n",
        "    batas_bawah = Q1 - 1.5 * IQR\n",
        "    batas_atas = Q3 + 1.5 * IQR\n",
        "\n",
        "    outlier_count = df[(df[col] < batas_bawah) | (df[col] > batas_atas)].shape[0]\n",
        "\n",
        "    print(f\"Kolom: {col}\")\n",
        "    print(f\"Jumlah outlier: {outlier_count}\")\n",
        "\n",
        "    # Visualisasi\n",
        "    sns.boxplot(data=df, x=col)\n",
        "    plt.title(f'boxplot {col}')\n",
        "    plt.show()"
      ],
      "metadata": {
        "id": "jXn_CLCQ57YX"
      },
      "execution_count": null,
      "outputs": []
    },
    {
      "cell_type": "markdown",
      "source": [
        "2. Transformasi Data"
      ],
      "metadata": {
        "id": "YhyNeOG16bdd"
      }
    },
    {
      "cell_type": "code",
      "source": [
        "# Encoding Data Kategorikal (Categorical Encoding)\n",
        "data = pd.DataFrame({\n",
        "    'Protocol': ['TCP', 'UDP', 'ICMP']\n",
        "})\n",
        "\n",
        "encoder = OneHotEncoder(sparse_output=False)\n",
        "encoded = encoder.fit_transform(data)\n",
        "\n",
        "encoded_df = pd.DataFrame(encoded, columns=encoder.get_feature_names_out(['Protocol']))\n",
        "\n",
        "print(encoded_df)"
      ],
      "metadata": {
        "id": "hIhZTgtr6eqs"
      },
      "execution_count": null,
      "outputs": []
    },
    {
      "cell_type": "code",
      "source": [
        "# Normalisasi/Standarisasi Data Numerik (Numerical Data Normalization/Standardization)\n",
        "numerical_cols = ['Source Port', 'Destination Port', 'Packet Length', 'Anomaly Scores']\n",
        "\n",
        "df_normalized = df.copy()\n",
        "\n",
        "scaler = MinMaxScaler()\n",
        "df_normalized[numerical_cols] = scaler.fit_transform(df_normalized[numerical_cols])\n",
        "\n",
        "print(df_normalized[numerical_cols].head())"
      ],
      "metadata": {
        "id": "v1KvMWPi8Imo"
      },
      "execution_count": null,
      "outputs": []
    },
    {
      "cell_type": "markdown",
      "source": [
        "3. Rekayasa Fitur (Feature Engineering) & Pemilihan Fitur (Feature Selection)"
      ],
      "metadata": {
        "id": "ArexUIRx77cK"
      }
    },
    {
      "cell_type": "code",
      "source": [
        "# Rekayasa Fitur (Feature Engineering)\n",
        "\n",
        "# Hitung jumlah kasus untuk setiap kombinasi Traffic Type dan Severity Level\n",
        "traffic_severity_combination = df.groupby(['Traffic Type', 'Severity Level']).size().reset_index(name='Count')\n",
        "\n",
        "print(traffic_severity_combination)"
      ],
      "metadata": {
        "id": "4c9fBL0z83-D"
      },
      "execution_count": null,
      "outputs": []
    },
    {
      "cell_type": "code",
      "source": [
        "# Pemilihan Fitur (Feature Selection)\n",
        "\n",
        "# Encode target dan fitur kategorik\n",
        "le = LabelEncoder()\n",
        "df['Attack Type'] = le.fit_transform(df['Attack Type'])\n",
        "\n",
        "categorical_cols = df.select_dtypes(include=['object', 'bool']).columns\n",
        "\n",
        "# Encode semua kolom kategorik\n",
        "for col in categorical_cols:\n",
        "    df[col] = le.fit_transform(df[col].astype(str))\n",
        "\n",
        "X = df[categorical_cols]\n",
        "y = df['Attack Type']\n",
        "\n",
        "# Chi-Square Feature Selection\n",
        "selector = SelectKBest(score_func=chi2, k='all')\n",
        "selector.fit(X, y)\n",
        "\n",
        "# Tampilkan skor\n",
        "scores = pd.DataFrame({'Feature': X.columns, 'Chi2 Score': selector.scores_})\n",
        "scores = scores.sort_values(by='Chi2 Score', ascending=False)\n",
        "print(scores)\n"
      ],
      "metadata": {
        "id": "_BhrVzDa9aU2"
      },
      "execution_count": null,
      "outputs": []
    }
  ]
}
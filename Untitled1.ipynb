{
  "nbformat": 4,
  "nbformat_minor": 0,
  "metadata": {
    "colab": {
      "provenance": [],
      "authorship_tag": "ABX9TyP/argE81NliLeOIx9+wA9w",
      "include_colab_link": true
    },
    "kernelspec": {
      "name": "python3",
      "display_name": "Python 3"
    },
    "language_info": {
      "name": "python"
    }
  },
  "cells": [
    {
      "cell_type": "markdown",
      "metadata": {
        "id": "view-in-github",
        "colab_type": "text"
      },
      "source": [
        "<a href=\"https://colab.research.google.com/github/Frz1927/UTSPBO/blob/main/Untitled1.ipynb\" target=\"_parent\"><img src=\"https://colab.research.google.com/assets/colab-badge.svg\" alt=\"Open In Colab\"/></a>"
      ]
    },
    {
      "cell_type": "markdown",
      "source": [
        "1. Upload Dataset"
      ],
      "metadata": {
        "id": "SzXXOqLVDEqX"
      }
    },
    {
      "cell_type": "code",
      "execution_count": null,
      "metadata": {
        "id": "YYRdJI7I2xb5"
      },
      "outputs": [],
      "source": [
        "from google.colab import files\n",
        "uploaded = files.upload()\n"
      ]
    },
    {
      "cell_type": "markdown",
      "source": [
        "2. gunakan pandas untuk membaca dataset"
      ],
      "metadata": {
        "id": "K4YgS5RxDaHQ"
      }
    },
    {
      "cell_type": "code",
      "source": [
        "import pandas as pd\n",
        "\n",
        "df = pd.read_csv('cybersecurity_attacks.csv')  # ganti dengan nama file kamu\n"
      ],
      "metadata": {
        "id": "bGl72rgY7Srt"
      },
      "execution_count": 14,
      "outputs": []
    },
    {
      "cell_type": "markdown",
      "source": [
        "3. memahami struktur data"
      ],
      "metadata": {
        "id": "m_BWLTCY7d24"
      }
    },
    {
      "cell_type": "code",
      "source": [
        "df.head() #menampilkan 5 baris pertama\n"
      ],
      "metadata": {
        "id": "RJOTEFmV7hOD"
      },
      "execution_count": null,
      "outputs": []
    },
    {
      "cell_type": "code",
      "source": [
        "df.info() #menampilkan struktur data\n"
      ],
      "metadata": {
        "collapsed": true,
        "id": "wh8LDWDeBzCY"
      },
      "execution_count": null,
      "outputs": []
    },
    {
      "cell_type": "code",
      "source": [
        "df.dtypes #tipe data tiap kolom\n"
      ],
      "metadata": {
        "id": "iRMQYfOICAdw",
        "colab": {
          "base_uri": "https://localhost:8080/",
          "height": 868
        },
        "outputId": "fd9c00b2-c791-48ec-e70c-7ab6524f9057"
      },
      "execution_count": 15,
      "outputs": [
        {
          "output_type": "execute_result",
          "data": {
            "text/plain": [
              "Timestamp                  object\n",
              "Source IP Address          object\n",
              "Destination IP Address     object\n",
              "Source Port                 int64\n",
              "Destination Port            int64\n",
              "Protocol                   object\n",
              "Packet Length               int64\n",
              "Packet Type                object\n",
              "Traffic Type               object\n",
              "Payload Data               object\n",
              "Malware Indicators         object\n",
              "Anomaly Scores            float64\n",
              "Alerts/Warnings            object\n",
              "Attack Type                object\n",
              "Attack Signature           object\n",
              "Action Taken               object\n",
              "Severity Level             object\n",
              "User Information           object\n",
              "Device Information         object\n",
              "Network Segment            object\n",
              "Geo-location Data          object\n",
              "Proxy Information          object\n",
              "Firewall Logs              object\n",
              "IDS/IPS Alerts             object\n",
              "Log Source                 object\n",
              "dtype: object"
            ],
            "text/html": [
              "<div>\n",
              "<style scoped>\n",
              "    .dataframe tbody tr th:only-of-type {\n",
              "        vertical-align: middle;\n",
              "    }\n",
              "\n",
              "    .dataframe tbody tr th {\n",
              "        vertical-align: top;\n",
              "    }\n",
              "\n",
              "    .dataframe thead th {\n",
              "        text-align: right;\n",
              "    }\n",
              "</style>\n",
              "<table border=\"1\" class=\"dataframe\">\n",
              "  <thead>\n",
              "    <tr style=\"text-align: right;\">\n",
              "      <th></th>\n",
              "      <th>0</th>\n",
              "    </tr>\n",
              "  </thead>\n",
              "  <tbody>\n",
              "    <tr>\n",
              "      <th>Timestamp</th>\n",
              "      <td>object</td>\n",
              "    </tr>\n",
              "    <tr>\n",
              "      <th>Source IP Address</th>\n",
              "      <td>object</td>\n",
              "    </tr>\n",
              "    <tr>\n",
              "      <th>Destination IP Address</th>\n",
              "      <td>object</td>\n",
              "    </tr>\n",
              "    <tr>\n",
              "      <th>Source Port</th>\n",
              "      <td>int64</td>\n",
              "    </tr>\n",
              "    <tr>\n",
              "      <th>Destination Port</th>\n",
              "      <td>int64</td>\n",
              "    </tr>\n",
              "    <tr>\n",
              "      <th>Protocol</th>\n",
              "      <td>object</td>\n",
              "    </tr>\n",
              "    <tr>\n",
              "      <th>Packet Length</th>\n",
              "      <td>int64</td>\n",
              "    </tr>\n",
              "    <tr>\n",
              "      <th>Packet Type</th>\n",
              "      <td>object</td>\n",
              "    </tr>\n",
              "    <tr>\n",
              "      <th>Traffic Type</th>\n",
              "      <td>object</td>\n",
              "    </tr>\n",
              "    <tr>\n",
              "      <th>Payload Data</th>\n",
              "      <td>object</td>\n",
              "    </tr>\n",
              "    <tr>\n",
              "      <th>Malware Indicators</th>\n",
              "      <td>object</td>\n",
              "    </tr>\n",
              "    <tr>\n",
              "      <th>Anomaly Scores</th>\n",
              "      <td>float64</td>\n",
              "    </tr>\n",
              "    <tr>\n",
              "      <th>Alerts/Warnings</th>\n",
              "      <td>object</td>\n",
              "    </tr>\n",
              "    <tr>\n",
              "      <th>Attack Type</th>\n",
              "      <td>object</td>\n",
              "    </tr>\n",
              "    <tr>\n",
              "      <th>Attack Signature</th>\n",
              "      <td>object</td>\n",
              "    </tr>\n",
              "    <tr>\n",
              "      <th>Action Taken</th>\n",
              "      <td>object</td>\n",
              "    </tr>\n",
              "    <tr>\n",
              "      <th>Severity Level</th>\n",
              "      <td>object</td>\n",
              "    </tr>\n",
              "    <tr>\n",
              "      <th>User Information</th>\n",
              "      <td>object</td>\n",
              "    </tr>\n",
              "    <tr>\n",
              "      <th>Device Information</th>\n",
              "      <td>object</td>\n",
              "    </tr>\n",
              "    <tr>\n",
              "      <th>Network Segment</th>\n",
              "      <td>object</td>\n",
              "    </tr>\n",
              "    <tr>\n",
              "      <th>Geo-location Data</th>\n",
              "      <td>object</td>\n",
              "    </tr>\n",
              "    <tr>\n",
              "      <th>Proxy Information</th>\n",
              "      <td>object</td>\n",
              "    </tr>\n",
              "    <tr>\n",
              "      <th>Firewall Logs</th>\n",
              "      <td>object</td>\n",
              "    </tr>\n",
              "    <tr>\n",
              "      <th>IDS/IPS Alerts</th>\n",
              "      <td>object</td>\n",
              "    </tr>\n",
              "    <tr>\n",
              "      <th>Log Source</th>\n",
              "      <td>object</td>\n",
              "    </tr>\n",
              "  </tbody>\n",
              "</table>\n",
              "</div><br><label><b>dtype:</b> object</label>"
            ]
          },
          "metadata": {},
          "execution_count": 15
        }
      ]
    },
    {
      "cell_type": "markdown",
      "source": [
        "4. statistik deskripsi"
      ],
      "metadata": {
        "id": "Dx_XBuDnDqKX"
      }
    },
    {
      "cell_type": "code",
      "source": [
        "df.describe() #statistik untuk kolom numerik\n"
      ],
      "metadata": {
        "id": "9lfpe_MVDlVh"
      },
      "execution_count": null,
      "outputs": []
    },
    {
      "cell_type": "code",
      "source": [
        "df.describe(include='object') #statistik untuk kolom kategorikal"
      ],
      "metadata": {
        "id": "yRs0W7q4E614"
      },
      "execution_count": null,
      "outputs": []
    },
    {
      "cell_type": "markdown",
      "source": [
        "5. memeriksa missing value"
      ],
      "metadata": {
        "id": "cySsfp7FFNcK"
      }
    },
    {
      "cell_type": "code",
      "source": [
        "df.isnull().sum()\n"
      ],
      "metadata": {
        "id": "12_YJd-JFRHG"
      },
      "execution_count": null,
      "outputs": []
    },
    {
      "cell_type": "code",
      "source": [
        "df.isnull().mean() * 100 #dalam bentuk persentase"
      ],
      "metadata": {
        "id": "oQX4YaSHFdI_"
      },
      "execution_count": null,
      "outputs": []
    },
    {
      "cell_type": "markdown",
      "source": [
        "6. Distribusi dan data unik"
      ],
      "metadata": {
        "id": "qCJUcd0WF302"
      }
    },
    {
      "cell_type": "code",
      "source": [
        "for col in df.columns:\n",
        "    print(f\"{col}: {df[col].nunique()} nilai unik\") #Nilai unik setiap kolom (bisa untuk deteksi kategorikal)"
      ],
      "metadata": {
        "collapsed": true,
        "id": "_x648XzCF8g6"
      },
      "execution_count": null,
      "outputs": []
    },
    {
      "cell_type": "code",
      "source": [
        "df['Anomaly Scores'].value_counts() #menampilkan nilai terbanyak (sebagai contoh \"Anomaly Scores\")\n"
      ],
      "metadata": {
        "collapsed": true,
        "id": "ju-e_xAHGKNH"
      },
      "execution_count": null,
      "outputs": []
    },
    {
      "cell_type": "markdown",
      "source": [
        "7. Visualisasi awal"
      ],
      "metadata": {
        "id": "dKVeDZXgGxNz"
      }
    },
    {
      "cell_type": "code",
      "source": [
        "import matplotlib.pyplot as plt\n",
        "import seaborn as sns\n",
        "\n",
        "# Histogram kolom numerik\n",
        "df.hist(bins=20, figsize=(12, 10))\n",
        "plt.show()\n",
        "\n",
        "# Korelasi antar fitur numerik\n",
        "sns.heatmap(df.corr(numeric_only=True), annot=True, cmap='coolwarm')\n",
        "plt.show()\n"
      ],
      "metadata": {
        "collapsed": true,
        "id": "35nnpOtlG3AJ"
      },
      "execution_count": null,
      "outputs": []
    },
    {
      "cell_type": "markdown",
      "source": [
        "8. Cek Outlier Sederhana"
      ],
      "metadata": {
        "id": "voF09RPxHpcr"
      }
    },
    {
      "cell_type": "code",
      "source": [
        "sns.boxplot(x=df['Anomaly Scores'])\n"
      ],
      "metadata": {
        "id": "qu_Zptj8HtNe"
      },
      "execution_count": null,
      "outputs": []
    }
  ]
}
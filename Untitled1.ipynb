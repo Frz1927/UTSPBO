{
  "nbformat": 4,
  "nbformat_minor": 0,
  "metadata": {
    "colab": {
      "provenance": [],
      "authorship_tag": "ABX9TyNuoEB7DyZH1v5ZfVF0QsUR",
      "include_colab_link": true
    },
    "kernelspec": {
      "name": "python3",
      "display_name": "Python 3"
    },
    "language_info": {
      "name": "python"
    }
  },
  "cells": [
    {
      "cell_type": "markdown",
      "metadata": {
        "id": "view-in-github",
        "colab_type": "text"
      },
      "source": [
        "<a href=\"https://colab.research.google.com/github/Frz1927/UTSPBO/blob/main/Untitled1.ipynb\" target=\"_parent\"><img src=\"https://colab.research.google.com/assets/colab-badge.svg\" alt=\"Open In Colab\"/></a>"
      ]
    },
    {
      "cell_type": "markdown",
      "source": [
        "1. Upload Dataset"
      ],
      "metadata": {
        "id": "SzXXOqLVDEqX"
      }
    },
    {
      "cell_type": "code",
      "execution_count": null,
      "metadata": {
        "id": "YYRdJI7I2xb5"
      },
      "outputs": [],
      "source": [
        "from google.colab import files\n",
        "uploaded = files.upload()\n"
      ]
    },
    {
      "cell_type": "markdown",
      "source": [
        "2. gunakan pandas untuk membaca dataset"
      ],
      "metadata": {
        "id": "K4YgS5RxDaHQ"
      }
    },
    {
      "cell_type": "code",
      "source": [
        "import pandas as pd\n",
        "\n",
        "df = pd.read_csv('cybersecurity_attacks.csv')  # ganti dengan nama file kamu\n"
      ],
      "metadata": {
        "id": "bGl72rgY7Srt"
      },
      "execution_count": null,
      "outputs": []
    },
    {
      "cell_type": "markdown",
      "source": [
        "3. memahami struktur data"
      ],
      "metadata": {
        "id": "m_BWLTCY7d24"
      }
    },
    {
      "cell_type": "code",
      "source": [
        "df.head() #menampilkan 5 baris pertama\n"
      ],
      "metadata": {
        "id": "RJOTEFmV7hOD"
      },
      "execution_count": null,
      "outputs": []
    },
    {
      "cell_type": "code",
      "source": [
        "df.info() #menampilkan struktur data\n"
      ],
      "metadata": {
        "collapsed": true,
        "id": "wh8LDWDeBzCY"
      },
      "execution_count": null,
      "outputs": []
    },
    {
      "cell_type": "code",
      "source": [
        "df.dtypes #tipe data tiap kolom\n"
      ],
      "metadata": {
        "id": "iRMQYfOICAdw"
      },
      "execution_count": null,
      "outputs": []
    },
    {
      "cell_type": "markdown",
      "source": [
        "4. statistik deskripsi"
      ],
      "metadata": {
        "id": "Dx_XBuDnDqKX"
      }
    },
    {
      "cell_type": "code",
      "source": [
        "df.describe() #statistik untuk kolom numerik\n"
      ],
      "metadata": {
        "id": "9lfpe_MVDlVh"
      },
      "execution_count": null,
      "outputs": []
    },
    {
      "cell_type": "code",
      "source": [
        "df.describe(include='object') #statistik untuk kolom kategorikal"
      ],
      "metadata": {
        "id": "yRs0W7q4E614"
      },
      "execution_count": null,
      "outputs": []
    },
    {
      "cell_type": "markdown",
      "source": [
        "5. memeriksa missing value"
      ],
      "metadata": {
        "id": "cySsfp7FFNcK"
      }
    },
    {
      "cell_type": "code",
      "source": [
        "df.isnull().sum()\n"
      ],
      "metadata": {
        "id": "12_YJd-JFRHG"
      },
      "execution_count": null,
      "outputs": []
    },
    {
      "cell_type": "code",
      "source": [
        "df.isnull().mean() * 100 #dalam bentuk persentase"
      ],
      "metadata": {
        "id": "oQX4YaSHFdI_"
      },
      "execution_count": null,
      "outputs": []
    },
    {
      "cell_type": "markdown",
      "source": [
        "6. Distribusi dan data unik"
      ],
      "metadata": {
        "id": "qCJUcd0WF302"
      }
    },
    {
      "cell_type": "code",
      "source": [
        "for col in df.columns:\n",
        "    print(f\"{col}: {df[col].nunique()} nilai unik\") #Nilai unik setiap kolom (bisa untuk deteksi kategorikal)"
      ],
      "metadata": {
        "collapsed": true,
        "id": "_x648XzCF8g6"
      },
      "execution_count": null,
      "outputs": []
    },
    {
      "cell_type": "code",
      "source": [
        "df['Anomaly Scores'].value_counts() #menampilkan nilai terbanyak (sebagai contoh \"Anomaly Scores\")\n"
      ],
      "metadata": {
        "collapsed": true,
        "id": "ju-e_xAHGKNH"
      },
      "execution_count": null,
      "outputs": []
    },
    {
      "cell_type": "markdown",
      "source": [
        "7. Visualisasi awal"
      ],
      "metadata": {
        "id": "dKVeDZXgGxNz"
      }
    },
    {
      "cell_type": "code",
      "source": [
        "import matplotlib.pyplot as plt\n",
        "import seaborn as sns\n",
        "\n",
        "# Histogram kolom numerik\n",
        "df.hist(bins=20, figsize=(12, 10))\n",
        "plt.show()\n",
        "\n",
        "# Korelasi antar fitur numerik\n",
        "sns.heatmap(df.corr(numeric_only=True), annot=True, cmap='coolwarm')\n",
        "plt.show()\n"
      ],
      "metadata": {
        "collapsed": true,
        "id": "35nnpOtlG3AJ"
      },
      "execution_count": null,
      "outputs": []
    },
    {
      "cell_type": "markdown",
      "source": [
        "8. Cek Outlier Sederhana"
      ],
      "metadata": {
        "id": "voF09RPxHpcr"
      }
    },
    {
      "cell_type": "code",
      "source": [
        "sns.boxplot(x=df['Anomaly Scores'])\n"
      ],
      "metadata": {
        "id": "qu_Zptj8HtNe"
      },
      "execution_count": null,
      "outputs": []
    },
    {
      "cell_type": "markdown",
      "source": [
        "Contoh Mini"
      ],
      "metadata": {
        "id": "3RArmgtXH6SA"
      }
    },
    {
      "cell_type": "code",
      "source": [
        "import pandas as pd\n",
        "import seaborn as sns\n",
        "import matplotlib.pyplot as plt\n",
        "\n",
        "df = pd.read_csv('cybersecurity_attacks.csv')\n",
        "\n",
        "print(df.info())\n",
        "print(df.describe())\n",
        "\n",
        "print(\"Missing values:\\n\", df.isnull().sum())\n",
        "\n",
        "sns.histplot(df['Anomaly Scores'], kde=True)\n",
        "plt.title('Distribusi anomaly score')\n",
        "plt.show()\n"
      ],
      "metadata": {
        "id": "CMK_PE40H52H"
      },
      "execution_count": null,
      "outputs": []
    }
  ]
}